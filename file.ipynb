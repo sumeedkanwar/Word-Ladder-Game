{
 "cells": [
  {
   "cell_type": "code",
   "execution_count": 11,
   "metadata": {},
   "outputs": [
    {
     "name": "stdout",
     "output_type": "stream",
     "text": [
      "Merged file created with 111644 unique words: merged_unique_words.csv\n"
     ]
    }
   ],
   "source": [
    "import pandas as pd\n",
    "import glob\n",
    "\n",
    "# Path to your CSV files\n",
    "csv_files = glob.glob(r\"D:\\FAST\\Applied Artificial Intelligence\\Assignment 1\\archive\\Dictionary_eng\\*.csv\")\n",
    "\n",
    "# Initialize an empty set to store unique words\n",
    "unique_words = set()\n",
    "\n",
    "# Read each CSV file and add words to the set\n",
    "for file in csv_files:\n",
    "    with open(file, \"r\", encoding=\"latin-1\") as f:\n",
    "        for line in f:\n",
    "            word = line.strip()  # Remove extra spaces/newlines\n",
    "            if word:  # Avoid empty lines\n",
    "                unique_words.add(word.lower())  # Convert to lowercase for uniformity\n",
    "\n",
    "# Convert set to sorted list\n",
    "unique_words = sorted(unique_words)\n",
    "\n",
    "# Save to a new CSV file\n",
    "with open(\"merged_unique_words.csv\", \"w\", encoding=\"utf-8\") as f:\n",
    "    for word in unique_words:\n",
    "        f.write(word + \"\\n\")\n",
    "\n",
    "print(f\"Merged file created with {len(unique_words)} unique words: merged_unique_words.csv\")"
   ]
  },
  {
   "cell_type": "code",
   "execution_count": 1,
   "metadata": {},
   "outputs": [
    {
     "name": "stderr",
     "output_type": "stream",
     "text": [
      "[nltk_data] Downloading package words to\n",
      "[nltk_data]     C:\\Users\\Sumeed\\AppData\\Roaming\\nltk_data...\n",
      "[nltk_data]   Package words is already up-to-date!\n"
     ]
    },
    {
     "name": "stdout",
     "output_type": "stream",
     "text": [
      "Final cleaned file saved: D:/FAST/Applied Artificial Intelligence/Assignment 1/final.csv\n"
     ]
    }
   ],
   "source": [
    "import pandas as pd\n",
    "import nltk\n",
    "from nltk.corpus import words\n",
    "\n",
    "# Load the cleaned txt file\n",
    "file_path = \"D:/FAST/Applied Artificial Intelligence/Assignment 1/words-500k.txt\"\n",
    "\n",
    "# Load the word list\n",
    "nltk.download(\"words\")\n",
    "english_words = set(words.words())\n",
    "\n",
    "# Read the file\n",
    "df = pd.read_csv(file_path, header=None, names=[\"Word\"], encoding=\"utf-8\")\n",
    "\n",
    "# Keep only dictionary words\n",
    "df = df[df[\"Word\"].isin(english_words)]\n",
    "\n",
    "# Sort words by length\n",
    "df[\"Length\"] = df[\"Word\"].apply(len)\n",
    "df = df.sort_values(by=\"Length\").drop(columns=[\"Length\"])\n",
    "\n",
    "# Save the final file\n",
    "final_file_path = \"D:/FAST/Applied Artificial Intelligence/Assignment 1/final.csv\"\n",
    "df.to_csv(final_file_path, index=False, header=False)\n",
    "\n",
    "print(f\"Final cleaned file saved: {final_file_path}\")\n"
   ]
  }
 ],
 "metadata": {
  "kernelspec": {
   "display_name": "Python 3",
   "language": "python",
   "name": "python3"
  },
  "language_info": {
   "codemirror_mode": {
    "name": "ipython",
    "version": 3
   },
   "file_extension": ".py",
   "mimetype": "text/x-python",
   "name": "python",
   "nbconvert_exporter": "python",
   "pygments_lexer": "ipython3",
   "version": "3.12.2"
  }
 },
 "nbformat": 4,
 "nbformat_minor": 2
}
